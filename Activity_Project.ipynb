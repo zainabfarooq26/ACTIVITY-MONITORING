{
  "cells": [
    {
      "cell_type": "code",
      "execution_count": 98,
      "metadata": {
        "colab": {
          "base_uri": "https://localhost:8080/"
        },
        "id": "p7NMWLbsuXPz",
        "outputId": "4845d203-683a-4974-ffbe-c4b7443a5572"
      },
      "outputs": [
        {
          "output_type": "stream",
          "name": "stdout",
          "text": [
            "Drive already mounted at /content/drive/; to attempt to forcibly remount, call drive.mount(\"/content/drive/\", force_remount=True).\n"
          ]
        }
      ],
      "source": [
        "# The code imports the necessary libraries from Google\n",
        "# Colab and mounts the Google\n",
        "# Drive to the Colab notebook, allowing you to access\n",
        "# and work with files stored in your Google Drive.\n",
        "\n",
        "from google.colab import drive\n",
        "drive.mount(\"/content/drive/\")"
      ]
    },
    {
      "cell_type": "code",
      "execution_count": 107,
      "metadata": {
        "id": "W31mPrz32wLx"
      },
      "outputs": [],
      "source": [
        "# numpy (imported as np): Essential library for numerical computing.\n",
        "# scipy: Scientific computing library with extensive mathematical functions.\n",
        "# sklearn.preprocessing (specifically normalize): Data preprocessing module for normalizing input data.\n",
        "# sklearn (specifically svm module): Machine learning library for Support Vector Machines (SVM) algorithms.\n",
        "# sklearn.model_selection (specifically train_test_split): Module for splitting datasets into training and testing subsets.\n",
        "\n",
        "import numpy as np\n",
        "import scipy\n",
        "from sklearn.preprocessing import normalize\n",
        "from sklearn import svm\n",
        "from sklearn.model_selection import train_test_split\n",
        "\n",
        "import keras\n",
        "from keras.models import Sequential\n",
        "from keras.layers import LSTM, Dense"
      ]
    },
    {
      "cell_type": "code",
      "execution_count": 100,
      "metadata": {
        "colab": {
          "base_uri": "https://localhost:8080/"
        },
        "id": "DGnhV6UY0DK2",
        "outputId": "2e08d7a7-9e1c-4023-a365-a20ade3747ac"
      },
      "outputs": [
        {
          "output_type": "stream",
          "name": "stdout",
          "text": [
            "(2284, 268, 3) \n",
            " (2284, 268, 3) \n",
            " (2284, 80, 3) \n",
            " (2284, 80, 3) \n",
            " (2284, 800, 3) \n",
            " (2284, 800, 3) \n",
            " (2284, 800, 3) \n",
            " (2284, 800, 3) \n",
            " (2284, 200, 3) \n",
            " (2284,)\n",
            "(2288, 268, 3) \n",
            " (2288, 268, 3) \n",
            " (2288, 80, 3) \n",
            " (2288, 80, 3) \n",
            " (2288, 800, 3) \n",
            " (2288, 800, 3) \n",
            " (2288, 800, 3) \n",
            " (2288, 800, 3) \n",
            " (2288, 200, 3) \n",
            " (2288,)\n"
          ]
        }
      ],
      "source": [
        "# The np.load() function is used to load data from a NumPy binary file\n",
        "\n",
        "train_path = \"/content/drive/MyDrive/Colab Notebooks/bbh/training/\"\n",
        "test_path = \"/content/drive/MyDrive/Colab Notebooks/bbh/testing/\"\n",
        "\n",
        "train_labels = np.load(train_path + \"trainLabels.npy\")\n",
        "train_ms_acc = np.load(train_path + \"trainMSAccelerometer.npy\")\n",
        "train_ms_gyro = np.load(train_path + \"trainMSGyroscope.npy\")\n",
        "train_jins_acc = np.load(train_path + \"trainJinsAccelerometer.npy\")\n",
        "train_jins_gyro = np.load(train_path + \"trainJinsGyroscope.npy\")\n",
        "train_acc = np.load(train_path + \"trainAccelerometer.npy\")\n",
        "train_gravity = np.load(train_path + \"trainGravity.npy\")\n",
        "train_gyro = np.load(train_path + \"trainGyroscope.npy\")\n",
        "train_lin_acc = np.load(train_path + \"trainLinearAcceleration.npy\")\n",
        "train_mag = np.load(train_path + \"trainMagnetometer.npy\")\n",
        "\n",
        "test_labels = np.load(test_path + \"testLabels.npy\")\n",
        "test_ms_acc = np.load(test_path + \"testMSAccelerometer.npy\")\n",
        "test_ms_gyro = np.load(test_path + \"testMSGyroscope.npy\")\n",
        "test_jins_acc = np.load(test_path + \"testJinsAccelerometer.npy\")\n",
        "test_jins_gyro = np.load(test_path + \"testJinsGyroscope.npy\")\n",
        "test_acc = np.load(test_path + \"testAccelerometer.npy\")\n",
        "test_gravity = np.load(test_path + \"testGravity.npy\")\n",
        "test_gyro = np.load(test_path + \"testGyroscope.npy\")\n",
        "test_lin_acc = np.load(test_path + \"testLinearAcceleration.npy\")\n",
        "test_mag = np.load(test_path + \"testMagnetometer.npy\")\n",
        "\n",
        "print(train_ms_acc.shape, \"\\n\",\n",
        "      train_ms_gyro.shape, \"\\n\",\n",
        "      train_jins_acc.shape, \"\\n\",\n",
        "      train_jins_gyro.shape, \"\\n\",\n",
        "      train_acc.shape, \"\\n\",\n",
        "      train_gravity.shape, \"\\n\",\n",
        "      train_gyro.shape, \"\\n\",\n",
        "      train_lin_acc.shape, \"\\n\",\n",
        "      train_mag.shape, \"\\n\",\n",
        "      train_labels.shape)\n",
        "\n",
        "print(test_ms_acc.shape, \"\\n\",\n",
        "      test_ms_gyro.shape, \"\\n\",\n",
        "      test_jins_acc.shape, \"\\n\",\n",
        "      test_jins_gyro.shape, \"\\n\",\n",
        "      test_acc.shape, \"\\n\",\n",
        "      test_gravity.shape, \"\\n\",\n",
        "      test_gyro.shape, \"\\n\",\n",
        "      test_lin_acc.shape, \"\\n\",\n",
        "      test_mag.shape, \"\\n\",\n",
        "      test_labels.shape)\n",
        "\n"
      ]
    },
    {
      "cell_type": "code",
      "execution_count": 13,
      "metadata": {
        "colab": {
          "base_uri": "https://localhost:8080/"
        },
        "id": "dKVLZ5eoA0Bx",
        "outputId": "2cceeef8-397a-430a-e689-ca9f67716246"
      },
      "outputs": [
        {
          "output_type": "stream",
          "name": "stdout",
          "text": [
            "[47 47 22 ... 33 29 28]\n"
          ]
        }
      ],
      "source": [
        "print(trainLabels)"
      ]
    },
    {
      "cell_type": "code",
      "execution_count": 101,
      "metadata": {
        "id": "t7a6Ka8s2jxb"
      },
      "outputs": [],
      "source": [
        "\n",
        "def normalization(onehighdimension):\n",
        "  onehighdimension[:, :, 0] = normalize_one_low(onehighdimension[:, :, 0])\n",
        "  onehighdimension[:, :, 1] = normalize_one_low(onehighdimension[:, :, 1])\n",
        "  onehighdimension[:, :, 2] = normalize_one_low(onehighdimension[:, :, 2])\n",
        "  return onehighdimension\n",
        "\n",
        "def normalize_one_low(onelowdiemnsion):\n",
        "  return normalize(onelowdiemnsion, axis=1)\n",
        "\n",
        "\n",
        "norm_train_ms_acc = normalization(train_ms_acc)\n",
        "norm_train_ms_gyro = normalization(train_ms_gyro)\n",
        "norm_train_jins_acc = normalization(train_jins_acc)\n",
        "norm_train_jins_gyro = normalization(train_jins_gyro)\n",
        "norm_train_acc = normalization(train_acc)\n",
        "norm_train_gravity = normalization(train_gravity)\n",
        "norm_train_gyro = normalization(train_gyro)\n",
        "norm_train_lin_acc = normalization(train_lin_acc)\n",
        "norm_train_mag = normalization(train_mag)\n",
        "\n",
        "norm_test_ms_acc = normalization(test_ms_acc)\n",
        "norm_test_ms_gyro = normalization(test_ms_gyro)\n",
        "norm_test_jins_acc = normalization(test_jins_acc)\n",
        "norm_test_jins_gyro = normalization(test_jins_gyro)\n",
        "norm_test_acc = normalization(test_acc)\n",
        "norm_test_gravity = normalization(test_gravity)\n",
        "norm_test_gyro = normalization(test_gyro)\n",
        "norm_test_lin_acc = normalization(test_lin_acc)\n",
        "norm_test_mag = normalization(test_mag)\n",
        "\n",
        "\n",
        "def down_sample(arr, col_size):\n",
        "  pass\n"
      ]
    },
    {
      "cell_type": "code",
      "execution_count": 102,
      "metadata": {
        "id": "buAy68NiblLv"
      },
      "outputs": [],
      "source": [
        "#here i performed the feature extractions of maximum i can perform\n",
        "\n",
        "import scipy.stats\n",
        "\n",
        "def compute_feature(arr):\n",
        "    return np.hstack((mean_feature(arr), median_feature(arr), std_feature(arr), variance_feature(arr),\n",
        "                      max_feature(arr), min_feature(arr), percentile_feature(arr, 75), mean_deviation_feature(arr),\n",
        "                      kurtosis_feature(arr), skewness_feature(arr),\n",
        "                      rms_feature(arr), range_feature(arr), interquartile_range_feature(arr),\n",
        "                      absolute_mean_feature(arr), zero_crossing_feature(arr),))\n",
        "\n",
        "def mean_feature(arr):\n",
        "    return np.mean(arr, axis=1)\n",
        "\n",
        "def median_feature(arr):\n",
        "    return np.median(arr, axis=1)\n",
        "\n",
        "def std_feature(arr):\n",
        "    return np.std(arr, axis=1)\n",
        "\n",
        "def variance_feature(arr):\n",
        "    return np.var(arr, axis=1)\n",
        "\n",
        "def max_feature(arr):\n",
        "    return np.amax(arr, axis=1)\n",
        "\n",
        "def min_feature(arr):\n",
        "    return np.amin(arr, axis=1)\n",
        "\n",
        "def percentile_feature(arr, p):\n",
        "    return np.percentile(arr, p, axis=1)\n",
        "\n",
        "def mean_deviation_feature(arr):\n",
        "    return np.mean(np.abs(arr - np.mean(arr, axis=1, keepdims=True)), axis=1)\n",
        "\n",
        "def kurtosis_feature(arr):\n",
        "    return scipy.stats.kurtosis(arr, axis=1)\n",
        "\n",
        "def skewness_feature(arr):\n",
        "    return scipy.stats.skew(arr, axis=1)\n",
        "\n",
        "def rms_feature(arr):\n",
        "    return np.sqrt(np.mean(arr ** 2, axis=1))\n",
        "\n",
        "def range_feature(arr):\n",
        "    return np.ptp(arr, axis=1)\n",
        "\n",
        "def interquartile_range_feature(arr):\n",
        "    q75, q25 = np.percentile(arr, [75, 25], axis=1)\n",
        "    return q75 - q25\n",
        "\n",
        "def absolute_mean_feature(arr):\n",
        "    return np.mean(np.abs(arr), axis=1)\n",
        "\n",
        "def zero_crossing_feature(arr):\n",
        "    return np.sum(np.diff(np.sign(arr), axis=1) != 0, axis=1)\n",
        "# def entropy_feature(arr, num_bins=10):\n",
        "#     hist = np.apply_along_axis(np.histogram, axis=1, arr=arr, bins=num_bins)[0]\n",
        "#     probabilities = hist / np.sum(hist, axis=1, keepdims=True)\n",
        "#     probabilities = np.where(np.logical_or(probabilities <= 0, np.isnan(probabilities)), 1e-12, probabilities)\n",
        "#     return -np.sum(probabilities * np.log2(probabilities), axis=1)\n",
        "\n",
        "# def correlation_feature(arr):\n",
        "#     corr_matrix = np.corrcoef(arr, rowvar=False)\n",
        "#     return corr_matrix[np.triu_indices(arr.shape[2], k=1)]\n",
        "\n",
        "# def covariance_feature(arr):\n",
        "#     cov_matrix = np.cov(arr.reshape(arr.shape[0], -1), rowvar=False)\n",
        "#     return cov_matrix[np.triu_indices(arr.shape[2], k=1)]\n"
      ]
    },
    {
      "cell_type": "code",
      "execution_count": 103,
      "metadata": {
        "id": "IF7e0jVkOGHC"
      },
      "outputs": [],
      "source": [
        "# Here is performed segmentation\n",
        "\n",
        "def get_window(arr, start, end):\n",
        "    return arr[:, start:end, :]\n",
        "\n",
        "def get_features(arr, window_size, stride_size):\n",
        "    return segmented_features(arr, window_size, stride_size)\n",
        "\n",
        "def segmented_features(arr, window_size, stride_size):\n",
        "    j = 0\n",
        "    while j < (arr.shape[1] - window_size):\n",
        "        window = get_window(arr, j, j + window_size)\n",
        "        feature_arr = compute_feature(window)\n",
        "        if j == 0:\n",
        "            featured_arr = feature_arr\n",
        "        featured_arr = np.hstack((featured_arr, feature_arr))\n",
        "        j = j + stride_size\n",
        "    return featured_arr\n"
      ]
    },
    {
      "cell_type": "code",
      "execution_count": 104,
      "metadata": {
        "colab": {
          "base_uri": "https://localhost:8080/"
        },
        "id": "PYSkf9DKOQmg",
        "outputId": "f24c0650-a5df-431d-a0c9-e7ae4241f8ba"
      },
      "outputs": [
        {
          "output_type": "stream",
          "name": "stderr",
          "text": [
            "<ipython-input-102-bc7f1c763f37>:37: RuntimeWarning: Precision loss occurred in moment calculation due to catastrophic cancellation. This occurs when the data are nearly identical. Results may be unreliable.\n",
            "  return scipy.stats.kurtosis(arr, axis=1)\n",
            "<ipython-input-102-bc7f1c763f37>:40: RuntimeWarning: Precision loss occurred in moment calculation due to catastrophic cancellation. This occurs when the data are nearly identical. Results may be unreliable.\n",
            "  return scipy.stats.skew(arr, axis=1)\n"
          ]
        },
        {
          "output_type": "stream",
          "name": "stdout",
          "text": [
            "(2284, 1170) \n",
            " (2284, 1170) \n",
            " (2284, 315) \n",
            " (2284, 315) \n",
            " (2284, 3555) \n",
            " (2284, 3555) \n",
            " (2284, 3555) \n",
            " (2284, 3555) \n",
            " (2284, 855) \n",
            "\n",
            "(2288, 1170) \n",
            " (2288, 1170) \n",
            " (2288, 315) \n",
            " (2288, 315) \n",
            " (2288, 3555) \n",
            " (2288, 3555) \n",
            " (2288, 3555) \n",
            " (2288, 3555) \n",
            " (2288, 855) \n",
            "\n"
          ]
        }
      ],
      "source": [
        "window_size = 20\n",
        "stride_size = 10\n",
        "\n",
        "feature_train_ms_acc = get_features(norm_train_ms_acc, window_size, stride_size)\n",
        "feature_train_ms_gyro = get_features(norm_train_ms_gyro, window_size, stride_size)\n",
        "feature_train_jins_acc = get_features(norm_train_jins_acc, window_size, stride_size)\n",
        "feature_train_jins_gyro = get_features(norm_train_jins_gyro, window_size, stride_size)\n",
        "feature_train_acc = get_features(norm_train_acc, window_size, stride_size)\n",
        "feature_train_gravity = get_features(norm_train_gravity, window_size, stride_size)\n",
        "feature_train_gyro = get_features(norm_train_gyro, window_size, stride_size)\n",
        "feature_train_lin_acc = get_features(norm_train_lin_acc, window_size, stride_size)\n",
        "feature_train_mag = get_features(norm_train_mag, window_size, stride_size)\n",
        "\n",
        "feature_test_ms_acc = get_features(norm_test_ms_acc, window_size, stride_size)\n",
        "feature_test_ms_gyro = get_features(norm_test_ms_gyro, window_size, stride_size)\n",
        "feature_test_jins_acc = get_features(norm_test_jins_acc, window_size, stride_size)\n",
        "feature_test_jins_gyro = get_features(norm_test_jins_gyro, window_size, stride_size)\n",
        "feature_test_acc = get_features(norm_test_acc, window_size, stride_size)\n",
        "feature_test_gravity = get_features(norm_test_gravity, window_size, stride_size)\n",
        "feature_test_gyro = get_features(norm_test_gyro, window_size, stride_size)\n",
        "feature_test_lin_acc = get_features(norm_test_lin_acc, window_size, stride_size)\n",
        "feature_test_mag = get_features(norm_test_mag, window_size, stride_size)\n",
        "\n",
        "print(feature_train_ms_acc.shape, \"\\n\",\n",
        "      feature_train_ms_gyro.shape, \"\\n\",\n",
        "      feature_train_jins_acc.shape, \"\\n\",\n",
        "      feature_train_jins_gyro.shape, \"\\n\",\n",
        "      feature_train_acc.shape, \"\\n\",\n",
        "      feature_train_gravity.shape, \"\\n\",\n",
        "      feature_train_gyro.shape, \"\\n\",\n",
        "      feature_train_lin_acc.shape, \"\\n\",\n",
        "      feature_train_mag.shape, \"\\n\")\n",
        "\n",
        "print(feature_test_ms_acc.shape, \"\\n\",\n",
        "      feature_test_ms_gyro.shape, \"\\n\",\n",
        "      feature_test_jins_acc.shape, \"\\n\",\n",
        "      feature_test_jins_gyro.shape, \"\\n\",\n",
        "      feature_test_acc.shape, \"\\n\",\n",
        "      feature_test_gravity.shape, \"\\n\",\n",
        "      feature_test_gyro.shape, \"\\n\",\n",
        "      feature_test_lin_acc.shape, \"\\n\",\n",
        "      feature_test_mag.shape, \"\\n\")\n",
        "\n"
      ]
    },
    {
      "cell_type": "code",
      "execution_count": 105,
      "metadata": {
        "colab": {
          "base_uri": "https://localhost:8080/"
        },
        "id": "_8rH_1NbQvbw",
        "outputId": "33410ded-69ec-40d4-f5e2-82cb5983219c"
      },
      "outputs": [
        {
          "output_type": "stream",
          "name": "stdout",
          "text": [
            "(2284, 18045)\n",
            "(2288, 18045)\n"
          ]
        }
      ],
      "source": [
        "feature_train = feature_train_ms_acc\n",
        "feature_train = np.hstack((feature_train, feature_train_ms_gyro))\n",
        "feature_train = np.hstack((feature_train, feature_train_jins_acc))\n",
        "feature_train = np.hstack((feature_train, feature_train_jins_gyro))\n",
        "feature_train = np.hstack((feature_train, feature_train_acc))\n",
        "feature_train = np.hstack((feature_train, feature_train_gravity))\n",
        "feature_train = np.hstack((feature_train, feature_train_gyro))\n",
        "feature_train = np.hstack((feature_train, feature_train_lin_acc))\n",
        "feature_train = np.hstack((feature_train, feature_train_mag))\n",
        "\n",
        "feature_test = feature_test_ms_acc\n",
        "feature_test = np.hstack((feature_test, feature_test_ms_gyro))\n",
        "feature_test = np.hstack((feature_test, feature_test_jins_acc))\n",
        "feature_test = np.hstack((feature_test, feature_test_jins_gyro))\n",
        "feature_test = np.hstack((feature_test, feature_test_acc))\n",
        "feature_test = np.hstack((feature_test, feature_test_gravity))\n",
        "feature_test = np.hstack((feature_test, feature_test_gyro))\n",
        "feature_test = np.hstack((feature_test, feature_test_lin_acc))\n",
        "feature_test = np.hstack((feature_test, feature_test_mag))\n",
        "\n",
        "print(feature_train.shape)\n",
        "print(feature_test.shape)\n"
      ]
    },
    {
      "cell_type": "code",
      "execution_count": 108,
      "metadata": {
        "id": "NysilUTBDsKr"
      },
      "outputs": [],
      "source": [
        "norm_train_ms_acc = norm_train_ms_acc.reshape(norm_train_ms_acc.shape[0], norm_train_ms_acc.shape[1], 3)\n",
        "norm_train_ms_gyro = norm_train_ms_gyro.reshape(norm_train_ms_gyro.shape[0], norm_train_ms_gyro.shape[1], 3)\n"
      ]
    },
    {
      "cell_type": "markdown",
      "metadata": {
        "id": "UQON4o9ou6HX"
      },
      "source": [
        "# MODEL Classification"
      ]
    },
    {
      "cell_type": "code",
      "execution_count": 109,
      "metadata": {
        "colab": {
          "base_uri": "https://localhost:8080/",
          "height": 74
        },
        "id": "Uf9hnbEEnKhc",
        "outputId": "ad290542-a8e1-45e0-e411-79b055620b26"
      },
      "outputs": [
        {
          "output_type": "execute_result",
          "data": {
            "text/plain": [
              "SVC(kernel='linear')"
            ],
            "text/html": [
              "<style>#sk-container-id-2 {color: black;background-color: white;}#sk-container-id-2 pre{padding: 0;}#sk-container-id-2 div.sk-toggleable {background-color: white;}#sk-container-id-2 label.sk-toggleable__label {cursor: pointer;display: block;width: 100%;margin-bottom: 0;padding: 0.3em;box-sizing: border-box;text-align: center;}#sk-container-id-2 label.sk-toggleable__label-arrow:before {content: \"▸\";float: left;margin-right: 0.25em;color: #696969;}#sk-container-id-2 label.sk-toggleable__label-arrow:hover:before {color: black;}#sk-container-id-2 div.sk-estimator:hover label.sk-toggleable__label-arrow:before {color: black;}#sk-container-id-2 div.sk-toggleable__content {max-height: 0;max-width: 0;overflow: hidden;text-align: left;background-color: #f0f8ff;}#sk-container-id-2 div.sk-toggleable__content pre {margin: 0.2em;color: black;border-radius: 0.25em;background-color: #f0f8ff;}#sk-container-id-2 input.sk-toggleable__control:checked~div.sk-toggleable__content {max-height: 200px;max-width: 100%;overflow: auto;}#sk-container-id-2 input.sk-toggleable__control:checked~label.sk-toggleable__label-arrow:before {content: \"▾\";}#sk-container-id-2 div.sk-estimator input.sk-toggleable__control:checked~label.sk-toggleable__label {background-color: #d4ebff;}#sk-container-id-2 div.sk-label input.sk-toggleable__control:checked~label.sk-toggleable__label {background-color: #d4ebff;}#sk-container-id-2 input.sk-hidden--visually {border: 0;clip: rect(1px 1px 1px 1px);clip: rect(1px, 1px, 1px, 1px);height: 1px;margin: -1px;overflow: hidden;padding: 0;position: absolute;width: 1px;}#sk-container-id-2 div.sk-estimator {font-family: monospace;background-color: #f0f8ff;border: 1px dotted black;border-radius: 0.25em;box-sizing: border-box;margin-bottom: 0.5em;}#sk-container-id-2 div.sk-estimator:hover {background-color: #d4ebff;}#sk-container-id-2 div.sk-parallel-item::after {content: \"\";width: 100%;border-bottom: 1px solid gray;flex-grow: 1;}#sk-container-id-2 div.sk-label:hover label.sk-toggleable__label {background-color: #d4ebff;}#sk-container-id-2 div.sk-serial::before {content: \"\";position: absolute;border-left: 1px solid gray;box-sizing: border-box;top: 0;bottom: 0;left: 50%;z-index: 0;}#sk-container-id-2 div.sk-serial {display: flex;flex-direction: column;align-items: center;background-color: white;padding-right: 0.2em;padding-left: 0.2em;position: relative;}#sk-container-id-2 div.sk-item {position: relative;z-index: 1;}#sk-container-id-2 div.sk-parallel {display: flex;align-items: stretch;justify-content: center;background-color: white;position: relative;}#sk-container-id-2 div.sk-item::before, #sk-container-id-2 div.sk-parallel-item::before {content: \"\";position: absolute;border-left: 1px solid gray;box-sizing: border-box;top: 0;bottom: 0;left: 50%;z-index: -1;}#sk-container-id-2 div.sk-parallel-item {display: flex;flex-direction: column;z-index: 1;position: relative;background-color: white;}#sk-container-id-2 div.sk-parallel-item:first-child::after {align-self: flex-end;width: 50%;}#sk-container-id-2 div.sk-parallel-item:last-child::after {align-self: flex-start;width: 50%;}#sk-container-id-2 div.sk-parallel-item:only-child::after {width: 0;}#sk-container-id-2 div.sk-dashed-wrapped {border: 1px dashed gray;margin: 0 0.4em 0.5em 0.4em;box-sizing: border-box;padding-bottom: 0.4em;background-color: white;}#sk-container-id-2 div.sk-label label {font-family: monospace;font-weight: bold;display: inline-block;line-height: 1.2em;}#sk-container-id-2 div.sk-label-container {text-align: center;}#sk-container-id-2 div.sk-container {/* jupyter's `normalize.less` sets `[hidden] { display: none; }` but bootstrap.min.css set `[hidden] { display: none !important; }` so we also need the `!important` here to be able to override the default hidden behavior on the sphinx rendered scikit-learn.org. See: https://github.com/scikit-learn/scikit-learn/issues/21755 */display: inline-block !important;position: relative;}#sk-container-id-2 div.sk-text-repr-fallback {display: none;}</style><div id=\"sk-container-id-2\" class=\"sk-top-container\"><div class=\"sk-text-repr-fallback\"><pre>SVC(kernel=&#x27;linear&#x27;)</pre><b>In a Jupyter environment, please rerun this cell to show the HTML representation or trust the notebook. <br />On GitHub, the HTML representation is unable to render, please try loading this page with nbviewer.org.</b></div><div class=\"sk-container\" hidden><div class=\"sk-item\"><div class=\"sk-estimator sk-toggleable\"><input class=\"sk-toggleable__control sk-hidden--visually\" id=\"sk-estimator-id-2\" type=\"checkbox\" checked><label for=\"sk-estimator-id-2\" class=\"sk-toggleable__label sk-toggleable__label-arrow\">SVC</label><div class=\"sk-toggleable__content\"><pre>SVC(kernel=&#x27;linear&#x27;)</pre></div></div></div></div></div>"
            ]
          },
          "metadata": {},
          "execution_count": 109
        }
      ],
      "source": [
        "from sklearn import svm\n",
        "from sklearn.impute import SimpleImputer\n",
        "\n",
        "# Create an imputer object\n",
        "imputer = SimpleImputer(strategy='mean')\n",
        "\n",
        "# Fit the imputer on the training data\n",
        "imputer.fit(feature_train)\n",
        "\n",
        "# Transform the training data\n",
        "feature_train_imputed = imputer.transform(feature_train)\n",
        "\n",
        "# Create an SVM classifier with linear kernel\n",
        "classification = svm.SVC(kernel='linear')\n",
        "\n",
        "# Fit the classifier on the imputed training data\n",
        "classification.fit(feature_train_imputed, trainLabels)\n"
      ]
    },
    {
      "cell_type": "markdown",
      "metadata": {
        "id": "E4DHCvu0u9RA"
      },
      "source": [
        "#Model Testing"
      ]
    },
    {
      "cell_type": "code",
      "execution_count": 111,
      "metadata": {
        "colab": {
          "base_uri": "https://localhost:8080/"
        },
        "id": "1wAanx3xnl1g",
        "outputId": "b1307a4b-6ff0-450b-efe5-e290bd14db6b"
      },
      "outputs": [
        {
          "output_type": "stream",
          "name": "stdout",
          "text": [
            "How far it is good?: 0.34222027972027974\n"
          ]
        }
      ],
      "source": [
        "# Transform the testing data using the imputer\n",
        "feature_test_imputed = imputer.transform(feature_test)\n",
        "\n",
        "# Evaluate the classifier on the imputed testing data\n",
        "measurement_of_standard = classification.score(feature_test_imputed, testLabels)\n",
        "print(\"How far it is good?:\", measurement_of_standard)\n"
      ]
    }
  ],
  "metadata": {
    "colab": {
      "collapsed_sections": [
        "NCJIRZbfuYwW",
        "9OE4U_yxuhBw",
        "qhuTKil_u1Em",
        "UQON4o9ou6HX",
        "E4DHCvu0u9RA"
      ],
      "provenance": []
    },
    "kernelspec": {
      "display_name": "Python 3 (ipykernel)",
      "language": "python",
      "name": "python3"
    },
    "language_info": {
      "codemirror_mode": {
        "name": "ipython",
        "version": 3
      },
      "file_extension": ".py",
      "mimetype": "text/x-python",
      "name": "python",
      "nbconvert_exporter": "python",
      "pygments_lexer": "ipython3",
      "version": "3.10.5"
    }
  },
  "nbformat": 4,
  "nbformat_minor": 0
}